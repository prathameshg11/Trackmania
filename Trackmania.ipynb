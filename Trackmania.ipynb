{
 "cells": [
  {
   "cell_type": "code",
   "execution_count": null,
   "id": "ab2e77bb",
   "metadata": {},
   "outputs": [],
   "source": [
    "import gym\n",
    "import numpy as np\n",
    "import matplotlib.pyplot as plt\n",
    "from stable_baselines3 import PPO\n",
    "from stable_baselines3.common.env_checker import check_env\n",
    "from stable_baselines3.common.callbacks import BaseCallback\n",
    "from tmrl import get_environment\n",
    "from time import sleep"
   ]
  },
  {
   "cell_type": "code",
   "execution_count": null,
   "id": "c6b5d03e",
   "metadata": {},
   "outputs": [],
   "source": [
    "import os    \n",
    "os.environ['KMP_DUPLICATE_LIB_OK']='True'"
   ]
  },
  {
   "cell_type": "code",
   "execution_count": null,
   "id": "6792b14d",
   "metadata": {},
   "outputs": [],
   "source": [
    "class TrainAndLoggingCallback(BaseCallback):\n",
    "\n",
    "    def __init__(self, check_freq, save_path, verbose=1):\n",
    "        super(TrainAndLoggingCallback, self).__init__(verbose)\n",
    "        self.check_freq = check_freq\n",
    "        self.save_path = save_path\n",
    "\n",
    "    def _init_callback(self):\n",
    "        if self.save_path is not None:\n",
    "            os.makedirs(self.save_path, exist_ok=True)\n",
    "\n",
    "    def _on_step(self):\n",
    "        if self.n_calls % self.check_freq == 0:\n",
    "            model_path = os.path.join(self.save_path, 'best_model_{}'.format(self.n_calls))\n",
    "            self.model.save(model_path)\n",
    "\n",
    "        return True"
   ]
  },
  {
   "cell_type": "code",
   "execution_count": null,
   "id": "0e75e787",
   "metadata": {},
   "outputs": [],
   "source": [
    "CHECK_FREQ_NUMB = 10000\n",
    "TOTAL_TIMESTEP_NUMB = 300000\n",
    "LEARNING_RATE = 0.0003\n",
    "N_STEPS = 1024\n",
    "GAMMA = 0.995\n",
    "BATCH_SIZE = 256\n",
    "N_EPOCHS = 10\n",
    "DOWN_SAMPLE_RATE = 3\n",
    "SKIP_NUMB = 2\n",
    "EPISODE_NUMBERS = 10"
   ]
  },
  {
   "cell_type": "code",
   "execution_count": null,
   "id": "ec15e0ee",
   "metadata": {},
   "outputs": [],
   "source": [
    "CHECKPOINT_DIR = './train/'\n",
    "LOG_DIR = './logs/'"
   ]
  },
  {
   "cell_type": "code",
   "execution_count": null,
   "id": "f1826085",
   "metadata": {},
   "outputs": [],
   "source": [
    "callback = TrainAndLoggingCallback(check_freq=CHECK_FREQ_NUMB, save_path=CHECKPOINT_DIR)"
   ]
  },
  {
   "cell_type": "code",
   "execution_count": null,
   "id": "51fa0018",
   "metadata": {},
   "outputs": [],
   "source": [
    "from gym import Env\n",
    "from gym.spaces import Box, MultiDiscrete"
   ]
  },
  {
   "cell_type": "code",
   "execution_count": null,
   "id": "a6bdf08a",
   "metadata": {},
   "outputs": [],
   "source": [
    "class TrackMania(Env):\n",
    "    def __init__(self):\n",
    "        super().__init__()\n",
    "        self.game = get_environment()\n",
    "        sleep(1.0)\n",
    "        self.observation_space = Box(low=0.0, high=float('inf'), shape=(4,19), dtype=np.float32) \n",
    "        self.action_space = MultiDiscrete([3,3,3])\n",
    "        self.comple = 0.0000000\n",
    "        self.speed = 0.0000000\n",
    "    \n",
    "    def step(self, action):\n",
    "        act = np.array(action, dtype=np.float32)\n",
    "        for i in range(3):\n",
    "            act[i] -=1\n",
    "        obs, reward, done, info = self.game.step(act)\n",
    "#         curr_comple = obs[1][0]\n",
    "        reward = reward/10\n",
    "        reward += int((obs[1][0]-self.comple)*20)\n",
    "#         state = obs[2]\n",
    "#         curr_speed = obs[0][0]\n",
    "        if self.speed-obs[0][0]>=5:\n",
    "            reward -=500\n",
    "\n",
    "#         reward += int(obs[0][0]/10)\n",
    "        self.comple = obs[1][0]\n",
    "        self.speed = obs[0][0]\n",
    "        return obs[2], reward, done, info\n",
    "    \n",
    "    def render():\n",
    "        pass\n",
    "    \n",
    "    def reset(self):\n",
    "        obs = self.game.reset()\n",
    "        self.comple = 0.0000000\n",
    "        self.speed = 0.0000000\n",
    "        state = obs[2]\n",
    "        return state\n",
    "    \n",
    "    def wait(self):\n",
    "        self.game.wait()"
   ]
  },
  {
   "cell_type": "code",
   "execution_count": null,
   "id": "ce5deb5d",
   "metadata": {},
   "outputs": [],
   "source": [
    "# def model(obs):\n",
    "#     \"\"\"\n",
    "#     simplistic policy\n",
    "#     \"\"\"\n",
    "#     deviation = obs[2].mean(0)\n",
    "#     deviation /= (deviation.sum() + 0.001)\n",
    "#     steer = 0\n",
    "#     for i in range(19):\n",
    "#         steer += (i - 9) * deviation[i]\n",
    "#     steer = - np.tanh(steer * 4)\n",
    "#     steer = min(max(steer, -1.0), 1.0)\n",
    "#     return np.array([1.0, 0.0, steer])"
   ]
  },
  {
   "cell_type": "code",
   "execution_count": null,
   "id": "caf281b7",
   "metadata": {},
   "outputs": [],
   "source": [
    "# env = get_environment()  # retrieve the TMRL Gym environment\n",
    "# sleep(1.0)  # just so we have time to focus the TM20 window after starting the script"
   ]
  },
  {
   "cell_type": "code",
   "execution_count": null,
   "id": "b94b8911",
   "metadata": {},
   "outputs": [],
   "source": [
    "env = TrackMania()"
   ]
  },
  {
   "cell_type": "code",
   "execution_count": null,
   "id": "2248faa0",
   "metadata": {},
   "outputs": [],
   "source": [
    "obs = env.reset() # reset environment"
   ]
  },
  {
   "cell_type": "code",
   "execution_count": null,
   "id": "90fe5a1d",
   "metadata": {},
   "outputs": [],
   "source": [
    "model = PPO('MlpPolicy', env, verbose=1, tensorboard_log=LOG_DIR, learning_rate=LEARNING_RATE, n_steps=N_STEPS,\n",
    "            batch_size=BATCH_SIZE, n_epochs=N_EPOCHS, gamma=GAMMA)"
   ]
  },
  {
   "cell_type": "code",
   "execution_count": null,
   "id": "0978372d",
   "metadata": {},
   "outputs": [],
   "source": [
    "%%time\n",
    "model.learn(total_timesteps=TOTAL_TIMESTEP_NUMB, callback=callback)"
   ]
  },
  {
   "cell_type": "code",
   "execution_count": null,
   "id": "b0bcb34d",
   "metadata": {},
   "outputs": [],
   "source": [
    "obs = env.reset()"
   ]
  },
  {
   "cell_type": "code",
   "execution_count": null,
   "id": "7a96688a",
   "metadata": {},
   "outputs": [],
   "source": [
    "obs"
   ]
  },
  {
   "cell_type": "code",
   "execution_count": null,
   "id": "22afb5c4",
   "metadata": {
    "scrolled": true
   },
   "outputs": [],
   "source": [
    "mean_score = 0.0\n",
    "mean_time = 0.0\n",
    "for i in range(10):\n",
    "    t_st = 0\n",
    "    score = 0\n",
    "    obs = env.reset()\n",
    "    while True:  # rtgym ensures this runs at 20Hz by default\n",
    "        act, _ = model.predict(obs)  # compute action\n",
    "        obs, rew, done, info = env.step(act)  # apply action (rtgym ensures healthy time-steps)\n",
    "        score +=rew\n",
    "        t_st +=1\n",
    "        if done:\n",
    "            break\n",
    "    print(f\"score: {score}, time: {t_st}\")\n",
    "    mean_score+=score\n",
    "    mean_time+=t_st\n",
    "print(f\"m_score: {mean_score/10}, m_time: {mean_time/10}\")"
   ]
  },
  {
   "cell_type": "code",
   "execution_count": null,
   "id": "a152bb92",
   "metadata": {},
   "outputs": [],
   "source": [
    "model = PPO.load('./train/best_model_600000.zip')"
   ]
  },
  {
   "cell_type": "code",
   "execution_count": null,
   "id": "2bf94113",
   "metadata": {},
   "outputs": [],
   "source": []
  }
 ],
 "metadata": {
  "kernelspec": {
   "display_name": "Python 3 (ipykernel)",
   "language": "python",
   "name": "python3"
  },
  "language_info": {
   "codemirror_mode": {
    "name": "ipython",
    "version": 3
   },
   "file_extension": ".py",
   "mimetype": "text/x-python",
   "name": "python",
   "nbconvert_exporter": "python",
   "pygments_lexer": "ipython3",
   "version": "3.9.12"
  }
 },
 "nbformat": 4,
 "nbformat_minor": 5
}
