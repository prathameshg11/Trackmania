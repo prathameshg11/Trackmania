{
 "cells": [
  {
   "cell_type": "code",
   "execution_count": null,
   "id": "16940b8c",
   "metadata": {},
   "outputs": [],
   "source": [
    "# install following packages (and other dependencies if code throws an error)\n",
    "\n",
    "# torch\n",
    "# tmrl\n",
    "# stable baselines3\n",
    "# gym (offered by openai)\n",
    "# tensorboard (to be able to see logs stored)"
   ]
  },
  {
   "cell_type": "code",
   "execution_count": null,
   "id": "ab2e77bb",
   "metadata": {},
   "outputs": [],
   "source": [
    "import gym\n",
    "import numpy as np\n",
    "import matplotlib.pyplot as plt\n",
    "from stable_baselines3 import PPO\n",
    "from stable_baselines3.common.env_checker import check_env\n",
    "from stable_baselines3.common.callbacks import BaseCallback\n",
    "from tmrl import get_environment\n",
    "from time import sleep"
   ]
  },
  {
   "cell_type": "code",
   "execution_count": null,
   "id": "1086431f",
   "metadata": {},
   "outputs": [],
   "source": [
    "import os"
   ]
  },
  {
   "cell_type": "code",
   "execution_count": null,
   "id": "6792b14d",
   "metadata": {},
   "outputs": [],
   "source": [
    "class TrainAndLoggingCallback(BaseCallback):\n",
    "\n",
    "    def __init__(self, check_freq, save_path, verbose=1):\n",
    "        super(TrainAndLoggingCallback, self).__init__(verbose)\n",
    "        self.check_freq = check_freq\n",
    "        self.save_path = save_path\n",
    "\n",
    "    def _init_callback(self):\n",
    "        if self.save_path is not None:\n",
    "            os.makedirs(self.save_path, exist_ok=True)\n",
    "\n",
    "    def _on_step(self):\n",
    "        if self.n_calls % self.check_freq == 0:\n",
    "            model_path = os.path.join(self.save_path, 'best_model_{}'.format(self.n_calls))\n",
    "            self.model.save(model_path)\n",
    "\n",
    "        return True"
   ]
  },
  {
   "cell_type": "code",
   "execution_count": null,
   "id": "0e75e787",
   "metadata": {},
   "outputs": [],
   "source": [
    "CHECK_FREQ_NUMB = 10000\n",
    "TOTAL_TIMESTEP_NUMB = 100000   #  you can train it for longer period of time\n",
    "LEARNING_RATE = 0.0003\n",
    "N_STEPS = 1024\n",
    "GAMMA = 0.995\n",
    "BATCH_SIZE = 256\n",
    "N_EPOCHS = 10\n",
    "DOWN_SAMPLE_RATE = 3\n",
    "SKIP_NUMB = 2\n",
    "EPISODE_NUMBERS = 10"
   ]
  },
  {
   "cell_type": "code",
   "execution_count": null,
   "id": "ec15e0ee",
   "metadata": {},
   "outputs": [],
   "source": [
    "# you will have to make 2 folders named 'train' and 'logs' in the same folder where notebook is present \n",
    "CHECKPOINT_DIR = './train/'\n",
    "LOG_DIR = './logs/'"
   ]
  },
  {
   "cell_type": "code",
   "execution_count": null,
   "id": "f1826085",
   "metadata": {},
   "outputs": [],
   "source": [
    "callback = TrainAndLoggingCallback(check_freq=CHECK_FREQ_NUMB, save_path=CHECKPOINT_DIR)"
   ]
  },
  {
   "cell_type": "code",
   "execution_count": null,
   "id": "51fa0018",
   "metadata": {},
   "outputs": [],
   "source": [
    "from gym import Env\n",
    "from gym.spaces import Box, MultiDiscrete"
   ]
  },
  {
   "cell_type": "code",
   "execution_count": null,
   "id": "a6bdf08a",
   "metadata": {},
   "outputs": [],
   "source": [
    "class TrackMania(Env):\n",
    "    def __init__(self):\n",
    "        super().__init__()\n",
    "        self.game = get_environment()\n",
    "        sleep(1.0)\n",
    "        self.observation_space = Box(low=0.0, high=float('inf'), shape=(4,19), dtype=np.float32) \n",
    "        self.action_space = self.game.action_space\n",
    "\n",
    "    \n",
    "    def step(self, action):\n",
    "        obs, rew, terminated, truncated, info = self.game.step(action)\n",
    "\n",
    "        return obs[2], rew, terminated, truncated, info\n",
    "    \n",
    "    def render():\n",
    "        pass\n",
    "    \n",
    "    def reset(self):\n",
    "        obs, info = self.game.reset()\n",
    "        state = obs[2]\n",
    "        return state, info\n",
    "    \n",
    "    def wait(self):\n",
    "        self.game.wait()"
   ]
  },
  {
   "cell_type": "code",
   "execution_count": null,
   "id": "b94b8911",
   "metadata": {},
   "outputs": [],
   "source": [
    "env = TrackMania()"
   ]
  },
  {
   "cell_type": "code",
   "execution_count": null,
   "id": "2248faa0",
   "metadata": {},
   "outputs": [],
   "source": [
    "obs = env.reset() # reset environment"
   ]
  },
  {
   "cell_type": "code",
   "execution_count": null,
   "id": "c5b69cd6",
   "metadata": {},
   "outputs": [],
   "source": [
    "obs"
   ]
  },
  {
   "cell_type": "code",
   "execution_count": null,
   "id": "db5760c4",
   "metadata": {},
   "outputs": [],
   "source": [
    "model = PPO('MlpPolicy', env, verbose=1, tensorboard_log=LOG_DIR)"
   ]
  },
  {
   "cell_type": "code",
   "execution_count": null,
   "id": "0978372d",
   "metadata": {},
   "outputs": [],
   "source": [
    "%%time\n",
    "model.learn(total_timesteps=TOTAL_TIMESTEP_NUMB, callback=callback)"
   ]
  },
  {
   "cell_type": "code",
   "execution_count": null,
   "id": "021d212c",
   "metadata": {},
   "outputs": [],
   "source": [
    "mean_score = 0.0\n",
    "mean_time = 0.0\n",
    "t_step = 0\n",
    "for i in range(1):\n",
    "    t_step = 0\n",
    "    t_st = 0\n",
    "    score = 0\n",
    "    obs, _ = env.reset()\n",
    "    while True:  # rtgym ensures this runs at 20Hz by default\n",
    "        act, _ = model.predict(obs)  # compute action\n",
    "#         act = env.action_space.sample()\n",
    "        obs, rew, terminated, truncated, info = env.step(act)  # apply action (rtgym ensures healthy time-steps)\n",
    "        score +=rew\n",
    "        t_st +=1\n",
    "        if terminated or truncated:\n",
    "            break\n",
    "        t_step+=1\n",
    "    print(f\"score: {score}, time: {t_st}\")\n",
    "    mean_score+=score\n",
    "    mean_time+=t_st\n",
    "print(f\"m_score: {mean_score/10}, m_time: {mean_time/10}\")"
   ]
  },
  {
   "cell_type": "code",
   "execution_count": null,
   "id": "a152bb92",
   "metadata": {},
   "outputs": [],
   "source": [
    "# code to load saved model.\n",
    "model = PPO.load('./train_2/best_model_100000.zip', env=env, verbose=1, tensorboard_log=LOG_DIR)"
   ]
  }
 ],
 "metadata": {
  "kernelspec": {
   "display_name": "Python 3 (ipykernel)",
   "language": "python",
   "name": "python3"
  },
  "language_info": {
   "codemirror_mode": {
    "name": "ipython",
    "version": 3
   },
   "file_extension": ".py",
   "mimetype": "text/x-python",
   "name": "python",
   "nbconvert_exporter": "python",
   "pygments_lexer": "ipython3",
   "version": "3.10.0"
  }
 },
 "nbformat": 4,
 "nbformat_minor": 5
}
